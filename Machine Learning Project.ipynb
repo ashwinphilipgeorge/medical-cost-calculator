{
 "cells": [
  {
   "cell_type": "markdown",
   "id": "94a364dc",
   "metadata": {},
   "source": [
    "# Machine Learning Project for Kubernetes\n",
    "\n",
    "We will be creating an application that can predict a persons medical insurance charges based on 6 different features\n",
    "\n",
    "1. Age (ranges from 19 to 64) (int)\n",
    "2. Sex (Male and Female) \n",
    "3. BMI (ranges from 15.96 to 53.13) (float)\n",
    "4. Children (ranges from 0 to 5) (int)\n",
    "5. Smoker (Yes and No)\n",
    "6. Region (northwest,northeast,southwest,southeast)\n",
    "\n",
    "\n",
    "The dataset is obtained from Kaggle [here](https://www.kaggle.com/datasets/mirichoi0218/insurance?resource=download). Download the CSV file, and load it onto the notebook using Pandas as demonstrated below."
   ]
  },
  {
   "cell_type": "code",
   "execution_count": 2,
   "id": "4c889f15",
   "metadata": {},
   "outputs": [],
   "source": [
    "import pandas as pd"
   ]
  },
  {
   "cell_type": "code",
   "execution_count": 3,
   "id": "a5b02394",
   "metadata": {},
   "outputs": [],
   "source": [
    "data = pd.read_csv('insurance.csv')"
   ]
  },
  {
   "cell_type": "code",
   "execution_count": 4,
   "id": "ded30d37",
   "metadata": {},
   "outputs": [
    {
     "data": {
      "text/html": [
       "<div>\n",
       "<style scoped>\n",
       "    .dataframe tbody tr th:only-of-type {\n",
       "        vertical-align: middle;\n",
       "    }\n",
       "\n",
       "    .dataframe tbody tr th {\n",
       "        vertical-align: top;\n",
       "    }\n",
       "\n",
       "    .dataframe thead th {\n",
       "        text-align: right;\n",
       "    }\n",
       "</style>\n",
       "<table border=\"1\" class=\"dataframe\">\n",
       "  <thead>\n",
       "    <tr style=\"text-align: right;\">\n",
       "      <th></th>\n",
       "      <th>age</th>\n",
       "      <th>sex</th>\n",
       "      <th>bmi</th>\n",
       "      <th>children</th>\n",
       "      <th>smoker</th>\n",
       "      <th>region</th>\n",
       "      <th>charges</th>\n",
       "    </tr>\n",
       "  </thead>\n",
       "  <tbody>\n",
       "    <tr>\n",
       "      <th>0</th>\n",
       "      <td>19</td>\n",
       "      <td>female</td>\n",
       "      <td>27.900</td>\n",
       "      <td>0</td>\n",
       "      <td>yes</td>\n",
       "      <td>southwest</td>\n",
       "      <td>16884.92400</td>\n",
       "    </tr>\n",
       "    <tr>\n",
       "      <th>1</th>\n",
       "      <td>18</td>\n",
       "      <td>male</td>\n",
       "      <td>33.770</td>\n",
       "      <td>1</td>\n",
       "      <td>no</td>\n",
       "      <td>southeast</td>\n",
       "      <td>1725.55230</td>\n",
       "    </tr>\n",
       "    <tr>\n",
       "      <th>2</th>\n",
       "      <td>28</td>\n",
       "      <td>male</td>\n",
       "      <td>33.000</td>\n",
       "      <td>3</td>\n",
       "      <td>no</td>\n",
       "      <td>southeast</td>\n",
       "      <td>4449.46200</td>\n",
       "    </tr>\n",
       "    <tr>\n",
       "      <th>3</th>\n",
       "      <td>33</td>\n",
       "      <td>male</td>\n",
       "      <td>22.705</td>\n",
       "      <td>0</td>\n",
       "      <td>no</td>\n",
       "      <td>northwest</td>\n",
       "      <td>21984.47061</td>\n",
       "    </tr>\n",
       "    <tr>\n",
       "      <th>4</th>\n",
       "      <td>32</td>\n",
       "      <td>male</td>\n",
       "      <td>28.880</td>\n",
       "      <td>0</td>\n",
       "      <td>no</td>\n",
       "      <td>northwest</td>\n",
       "      <td>3866.85520</td>\n",
       "    </tr>\n",
       "    <tr>\n",
       "      <th>...</th>\n",
       "      <td>...</td>\n",
       "      <td>...</td>\n",
       "      <td>...</td>\n",
       "      <td>...</td>\n",
       "      <td>...</td>\n",
       "      <td>...</td>\n",
       "      <td>...</td>\n",
       "    </tr>\n",
       "    <tr>\n",
       "      <th>1333</th>\n",
       "      <td>50</td>\n",
       "      <td>male</td>\n",
       "      <td>30.970</td>\n",
       "      <td>3</td>\n",
       "      <td>no</td>\n",
       "      <td>northwest</td>\n",
       "      <td>10600.54830</td>\n",
       "    </tr>\n",
       "    <tr>\n",
       "      <th>1334</th>\n",
       "      <td>18</td>\n",
       "      <td>female</td>\n",
       "      <td>31.920</td>\n",
       "      <td>0</td>\n",
       "      <td>no</td>\n",
       "      <td>northeast</td>\n",
       "      <td>2205.98080</td>\n",
       "    </tr>\n",
       "    <tr>\n",
       "      <th>1335</th>\n",
       "      <td>18</td>\n",
       "      <td>female</td>\n",
       "      <td>36.850</td>\n",
       "      <td>0</td>\n",
       "      <td>no</td>\n",
       "      <td>southeast</td>\n",
       "      <td>1629.83350</td>\n",
       "    </tr>\n",
       "    <tr>\n",
       "      <th>1336</th>\n",
       "      <td>21</td>\n",
       "      <td>female</td>\n",
       "      <td>25.800</td>\n",
       "      <td>0</td>\n",
       "      <td>no</td>\n",
       "      <td>southwest</td>\n",
       "      <td>2007.94500</td>\n",
       "    </tr>\n",
       "    <tr>\n",
       "      <th>1337</th>\n",
       "      <td>61</td>\n",
       "      <td>female</td>\n",
       "      <td>29.070</td>\n",
       "      <td>0</td>\n",
       "      <td>yes</td>\n",
       "      <td>northwest</td>\n",
       "      <td>29141.36030</td>\n",
       "    </tr>\n",
       "  </tbody>\n",
       "</table>\n",
       "<p>1338 rows × 7 columns</p>\n",
       "</div>"
      ],
      "text/plain": [
       "      age     sex     bmi  children smoker     region      charges\n",
       "0      19  female  27.900         0    yes  southwest  16884.92400\n",
       "1      18    male  33.770         1     no  southeast   1725.55230\n",
       "2      28    male  33.000         3     no  southeast   4449.46200\n",
       "3      33    male  22.705         0     no  northwest  21984.47061\n",
       "4      32    male  28.880         0     no  northwest   3866.85520\n",
       "...   ...     ...     ...       ...    ...        ...          ...\n",
       "1333   50    male  30.970         3     no  northwest  10600.54830\n",
       "1334   18  female  31.920         0     no  northeast   2205.98080\n",
       "1335   18  female  36.850         0     no  southeast   1629.83350\n",
       "1336   21  female  25.800         0     no  southwest   2007.94500\n",
       "1337   61  female  29.070         0    yes  northwest  29141.36030\n",
       "\n",
       "[1338 rows x 7 columns]"
      ]
     },
     "execution_count": 4,
     "metadata": {},
     "output_type": "execute_result"
    }
   ],
   "source": [
    "data"
   ]
  },
  {
   "cell_type": "markdown",
   "id": "879deb8d",
   "metadata": {},
   "source": [
    "Special thanks to Miri Choi for providing a dataset thats extremely clean, so we wont have to spend too much time on that aspect! If you want to check the datasets cleanliness for yourself, consider running this command to view all the unique values in each of the features:\n",
    "\n",
    "```python\n",
    "for col in data.columns:\n",
    "    print(col)\n",
    "    print(data[col].unique())\n",
    "    print(\"\\n\")\n",
    "```\n",
    "\n",
    "Nonetheless, we will have to perform some basic feature engineering, as certain features (age,sex etc.) are in string format, which are not compatible with most regression models. These are categorical variables (non-ordinal) and hence one-hot encoding should do the trick! Remember, ordinal encoding only makes sense if the categories have a certain level of value in order (for eg. Gold > Silver > Bronze) but for a category that includes dogs, cats and rabbits, theres no level of order, and hence one-hot encoding is the preferred option."
   ]
  },
  {
   "cell_type": "code",
   "execution_count": 5,
   "id": "ce25b0a7",
   "metadata": {},
   "outputs": [],
   "source": [
    "cols_to_encode = ['sex','smoker','region']\n",
    "df_encoded = pd.get_dummies(data[cols_to_encode],drop_first=True)\n",
    "df_not_encoded = data.drop(cols_to_encode, axis=1)\n",
    "final_df = pd.concat([df_encoded,df_not_encoded],axis=1)"
   ]
  },
  {
   "cell_type": "markdown",
   "id": "5590b0fb",
   "metadata": {},
   "source": [
    "Great, we have a nice, clean dataset. Lets break it up into train and test and see how it performs against some basic regression models."
   ]
  },
  {
   "cell_type": "code",
   "execution_count": 31,
   "id": "8bdb1588",
   "metadata": {},
   "outputs": [],
   "source": [
    "from sklearn.preprocessing import MinMaxScaler\n",
    "from sklearn.model_selection import train_test_split"
   ]
  },
  {
   "cell_type": "code",
   "execution_count": 32,
   "id": "03e73201",
   "metadata": {},
   "outputs": [],
   "source": [
    "y = final_df['charges']\n",
    "X = final_df.drop('charges',axis=1)\n",
    "X_scaled = MinMaxScaler().fit_transform(X)\n",
    "X_train,X_test,y_train,y_test = train_test_split(X_scaled,y,test_size=0.2,random_state=42)"
   ]
  },
  {
   "cell_type": "code",
   "execution_count": 13,
   "id": "3bf56796",
   "metadata": {},
   "outputs": [],
   "source": [
    "from sklearn.linear_model import LinearRegression\n",
    "model = LinearRegression().fit(X_train,y_train)\n",
    "y_preds = model.predict(X_test)"
   ]
  },
  {
   "cell_type": "code",
   "execution_count": 14,
   "id": "3c43ff20",
   "metadata": {},
   "outputs": [
    {
     "name": "stdout",
     "output_type": "stream",
     "text": [
      "0.7835929767120723\n"
     ]
    }
   ],
   "source": [
    "from sklearn.metrics import r2_score\n",
    "print(r2_score(y_test,y_preds))"
   ]
  },
  {
   "cell_type": "code",
   "execution_count": 16,
   "id": "4dab1d84",
   "metadata": {},
   "outputs": [
    {
     "name": "stdout",
     "output_type": "stream",
     "text": [
      "0.8638841461300266\n"
     ]
    }
   ],
   "source": [
    "from sklearn.ensemble import RandomForestRegressor\n",
    "model2 = RandomForestRegressor().fit(X_train,y_train)\n",
    "y_preds_rfr = model2.predict(X_test)\n",
    "print(r2_score(y_test,y_preds_rfr))"
   ]
  },
  {
   "cell_type": "code",
   "execution_count": 18,
   "id": "221cedfb",
   "metadata": {},
   "outputs": [
    {
     "data": {
      "text/plain": [
       "['rfr_model.sav']"
      ]
     },
     "execution_count": 18,
     "metadata": {},
     "output_type": "execute_result"
    }
   ],
   "source": [
    "import joblib\n",
    "joblib.dump(model2, 'rfr_model.sav')"
   ]
  },
  {
   "cell_type": "code",
   "execution_count": 19,
   "id": "dd2af740",
   "metadata": {},
   "outputs": [],
   "source": [
    "from typing import Union\n",
    "\n",
    "from fastapi import FastAPI\n",
    "\n",
    "app = FastAPI()\n",
    "\n",
    "\n",
    "@app.get(\"/\")\n",
    "def read_root():\n",
    "    return {\"Hello\": \"World\"}\n",
    "\n",
    "\n",
    "@app.get(\"/items/{item_id}\")\n",
    "def read_item(item_id: int, q: Union[str, None] = None):\n",
    "    return {\"item_id\": item_id, \"q\": q}"
   ]
  },
  {
   "cell_type": "code",
   "execution_count": 23,
   "id": "80cdf62a",
   "metadata": {},
   "outputs": [
    {
     "name": "stdout",
     "output_type": "stream",
     "text": [
      "\u001b[32mINFO\u001b[0m:     Will watch for changes in these directories: ['/Users/ashwinphilipgeorge/workspace/medium']\n",
      "\u001b[32mINFO\u001b[0m:     Uvicorn running on \u001b[1mhttp://127.0.0.1:8000\u001b[0m (Press CTRL+C to quit)\n",
      "\u001b[32mINFO\u001b[0m:     Started reloader process [\u001b[36m\u001b[1m6806\u001b[0m] using \u001b[36m\u001b[1mWatchFiles\u001b[0m\n",
      "\u001b[31mERROR\u001b[0m:    Error loading ASGI app. Attribute \"app\" not found in module \"main\".\n",
      "\u001b[33mWARNING\u001b[0m:  WatchFiles detected changes in 'main.py'. Reloading...\n",
      "\u001b[32mINFO\u001b[0m:     Started server process [\u001b[36m6830\u001b[0m]\n",
      "\u001b[32mINFO\u001b[0m:     Waiting for application startup.\n",
      "\u001b[32mINFO\u001b[0m:     Application startup complete.\n",
      "\u001b[33mWARNING\u001b[0m:  WatchFiles detected changes in 'main.py'. Reloading...\n",
      "\u001b[32mINFO\u001b[0m:     Shutting down\n",
      "\u001b[32mINFO\u001b[0m:     Waiting for application shutdown.\n",
      "\u001b[32mINFO\u001b[0m:     Application shutdown complete.\n",
      "\u001b[32mINFO\u001b[0m:     Finished server process [\u001b[36m6830\u001b[0m]\n",
      "\u001b[32mINFO\u001b[0m:     Started server process [\u001b[36m6831\u001b[0m]\n",
      "\u001b[32mINFO\u001b[0m:     Waiting for application startup.\n",
      "\u001b[32mINFO\u001b[0m:     Application startup complete.\n",
      "\u001b[32mINFO\u001b[0m:     127.0.0.1:56999 - \"\u001b[1mGET / HTTP/1.1\u001b[0m\" \u001b[32m200 OK\u001b[0m\n",
      "\u001b[32mINFO\u001b[0m:     127.0.0.1:57000 - \"\u001b[1mGET /favicon.ico HTTP/1.1\u001b[0m\" \u001b[31m404 Not Found\u001b[0m\n",
      "\u001b[32mINFO\u001b[0m:     127.0.0.1:57015 - \"\u001b[1mGET /items/5?q=somequery HTTP/1.1\u001b[0m\" \u001b[32m200 OK\u001b[0m\n",
      "\u001b[32mINFO\u001b[0m:     127.0.0.1:57015 - \"\u001b[1mGET /favicon.ico HTTP/1.1\u001b[0m\" \u001b[31m404 Not Found\u001b[0m\n",
      "^C\n",
      "\u001b[32mINFO\u001b[0m:     Shutting down\n",
      "\u001b[32mINFO\u001b[0m:     Waiting for application shutdown.\n",
      "\u001b[32mINFO\u001b[0m:     Application shutdown complete.\n",
      "\u001b[32mINFO\u001b[0m:     Finished server process [\u001b[36m6831\u001b[0m]\n",
      "\u001b[32mINFO\u001b[0m:     Stopping reloader process [\u001b[36m\u001b[1m6806\u001b[0m]\n"
     ]
    }
   ],
   "source": [
    "!uvicorn main:app --reload"
   ]
  },
  {
   "cell_type": "code",
   "execution_count": 1,
   "id": "8fd362c5",
   "metadata": {},
   "outputs": [],
   "source": [
    "import joblib\n",
    "\n",
    "model = joblib.load('rfr_model.sav')"
   ]
  },
  {
   "cell_type": "markdown",
   "id": "c9f3f508",
   "metadata": {},
   "source": [
    "## Full Preprocessing"
   ]
  },
  {
   "cell_type": "code",
   "execution_count": 20,
   "id": "83804aa6",
   "metadata": {},
   "outputs": [],
   "source": [
    "def full_preprocessing(data):\n",
    "    cols_to_encode = ['sex','smoker','region']\n",
    "    df_encoded = pd.get_dummies(data[cols_to_encode],drop_first=True)\n",
    "    df_not_encoded = data.drop(cols_to_encode)\n",
    "    final_df = pd.concat([df_encoded,df_not_encoded])\n",
    "    X_scaled = MinMaxScaler().fit_transform(final_df)\n",
    "    return X_scaled"
   ]
  },
  {
   "cell_type": "code",
   "execution_count": 21,
   "id": "8f99dcaf",
   "metadata": {},
   "outputs": [],
   "source": [
    "test_series = data.iloc[0].drop('charges')"
   ]
  },
  {
   "cell_type": "code",
   "execution_count": 27,
   "id": "6dbd2252",
   "metadata": {},
   "outputs": [
    {
     "data": {
      "text/plain": [
       "age                19\n",
       "sex            female\n",
       "bmi              27.9\n",
       "children            0\n",
       "smoker            yes\n",
       "region      southwest\n",
       "Name: 0, dtype: object"
      ]
     },
     "execution_count": 27,
     "metadata": {},
     "output_type": "execute_result"
    }
   ],
   "source": [
    "test_series"
   ]
  },
  {
   "cell_type": "code",
   "execution_count": 33,
   "id": "fc78326d",
   "metadata": {},
   "outputs": [
    {
     "data": {
      "text/plain": [
       "sex_male             0.0\n",
       "smoker_yes           1.0\n",
       "region_northwest     0.0\n",
       "region_southeast     0.0\n",
       "region_southwest     1.0\n",
       "age                 19.0\n",
       "bmi                 27.9\n",
       "children             0.0\n",
       "Name: 0, dtype: float64"
      ]
     },
     "execution_count": 33,
     "metadata": {},
     "output_type": "execute_result"
    }
   ],
   "source": [
    "X.iloc[0]"
   ]
  },
  {
   "cell_type": "code",
   "execution_count": 40,
   "id": "c7158447",
   "metadata": {},
   "outputs": [],
   "source": [
    "test_series = [[0,1,0,0,1,19,27.9,0]]"
   ]
  },
  {
   "cell_type": "code",
   "execution_count": 42,
   "id": "e38d95d6",
   "metadata": {},
   "outputs": [
    {
     "data": {
      "text/plain": [
       "48316.16197970002"
      ]
     },
     "execution_count": 42,
     "metadata": {},
     "output_type": "execute_result"
    }
   ],
   "source": [
    "model.predict(test_series)[0]"
   ]
  },
  {
   "cell_type": "code",
   "execution_count": null,
   "id": "9415bdcc",
   "metadata": {},
   "outputs": [],
   "source": []
  }
 ],
 "metadata": {
  "kernelspec": {
   "display_name": "medium",
   "language": "python",
   "name": "medium"
  },
  "language_info": {
   "codemirror_mode": {
    "name": "ipython",
    "version": 3
   },
   "file_extension": ".py",
   "mimetype": "text/x-python",
   "name": "python",
   "nbconvert_exporter": "python",
   "pygments_lexer": "ipython3",
   "version": "3.9.13"
  }
 },
 "nbformat": 4,
 "nbformat_minor": 5
}
